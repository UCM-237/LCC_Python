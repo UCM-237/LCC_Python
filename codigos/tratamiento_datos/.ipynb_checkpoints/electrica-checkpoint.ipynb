{
 "cells": [
  {
   "cell_type": "code",
   "execution_count": 1,
   "id": "11a4e543",
   "metadata": {},
   "outputs": [
    {
     "ename": "FileNotFoundError",
     "evalue": "[Errno 2] No such file or directory: '../../datos/generacion20250319MW.csv'",
     "output_type": "error",
     "traceback": [
      "Traceback \u001b[0;36m(most recent call last)\u001b[0m:\n",
      "\u001b[0m  Cell \u001b[1;32mIn[1], line 4\u001b[0m\n    generacion_mw = pd.read_csv('../../datos/generacion20250319MW.csv')\u001b[0m\n",
      "\u001b[0m  File \u001b[1;32m~/anaconda3/lib/python3.11/site-packages/pandas/io/parsers/readers.py:948\u001b[0m in \u001b[1;35mread_csv\u001b[0m\n    return _read(filepath_or_buffer, kwds)\u001b[0m\n",
      "\u001b[0m  File \u001b[1;32m~/anaconda3/lib/python3.11/site-packages/pandas/io/parsers/readers.py:611\u001b[0m in \u001b[1;35m_read\u001b[0m\n    parser = TextFileReader(filepath_or_buffer, **kwds)\u001b[0m\n",
      "\u001b[0m  File \u001b[1;32m~/anaconda3/lib/python3.11/site-packages/pandas/io/parsers/readers.py:1448\u001b[0m in \u001b[1;35m__init__\u001b[0m\n    self._engine = self._make_engine(f, self.engine)\u001b[0m\n",
      "\u001b[0m  File \u001b[1;32m~/anaconda3/lib/python3.11/site-packages/pandas/io/parsers/readers.py:1705\u001b[0m in \u001b[1;35m_make_engine\u001b[0m\n    self.handles = get_handle(\u001b[0m\n",
      "\u001b[0;36m  File \u001b[0;32m~/anaconda3/lib/python3.11/site-packages/pandas/io/common.py:863\u001b[0;36m in \u001b[0;35mget_handle\u001b[0;36m\n\u001b[0;31m    handle = open(\u001b[0;36m\n",
      "\u001b[0;31mFileNotFoundError\u001b[0m\u001b[0;31m:\u001b[0m [Errno 2] No such file or directory: '../../datos/generacion20250319MW.csv'\n"
     ]
    }
   ],
   "source": [
    "import pandas as pd\n",
    "import matplotlib.pyplot as pl\n",
    "\n",
    "generacion_mw = pd.read_csv('../../datos/generacion20250319MW.csv')\n",
    "generacion_mw.rename(columns=generacion_mw.iloc[1], inplace = True)\n",
    "generacion_mw.drop([0,1],inplace=True)\n",
    "lista = generacion_mw.columns\n",
    "for i in lista[1:]:\n",
    "    generacion_mw[i] = generacion_mw[i].astype(float)\n",
    "    \n",
    "des = generacion_mw.describe()\n",
    "des.loc['mean'][des.loc['mean']>0].plot.pie()\n",
    "\n",
    "#cambio los índices a las horas que es bastante sensato\n",
    "gn_Mw_h = generacion_mw.set_index('Hora')\n",
    "\n",
    "#pido que me grafique todas, frente al tiempo queda un tanto faragoso\n",
    "#pero da una idea de lo que hay\n",
    "pl.figure()\n",
    "gn_Mw_h.plot(rot=40,ylabel='Mw')\n",
    "pl.figure()\n",
    "gn_Mw_h.boxplot(rot=90)\n",
    "#vamos a hacer un diagrama de quesos pero eliminado los negativos que propiamente\n",
    "#no son produccion Seleccionamos una hora\n",
    "\n",
    "datos1005 = gn_Mw_h.loc['2025-03-19 01:05','Eólica':]\n",
    "datos1230 = gn_Mw_h.loc['2025-03-19 12:30','Eólica':]\n",
    "datosprod1005 = datos1005[datos1005>0]\n",
    "datosprod1230 = datos1230[datos1230>0]\n",
    "pl.figure()\n",
    "datosprod1005.plot.pie()\n",
    "pl.figure()\n",
    "datosprod1230.plot.pie()"
   ]
  },
  {
   "cell_type": "code",
   "execution_count": null,
   "id": "ea130e09",
   "metadata": {},
   "outputs": [],
   "source": []
  }
 ],
 "metadata": {
  "kernelspec": {
   "display_name": "Python 3 (Spyder)",
   "language": "python3",
   "name": "python3"
  },
  "language_info": {
   "codemirror_mode": {
    "name": "ipython",
    "version": 3
   },
   "file_extension": ".py",
   "mimetype": "text/x-python",
   "name": "python",
   "nbconvert_exporter": "python",
   "pygments_lexer": "ipython3",
   "version": "3.11.5"
  }
 },
 "nbformat": 4,
 "nbformat_minor": 5
}
