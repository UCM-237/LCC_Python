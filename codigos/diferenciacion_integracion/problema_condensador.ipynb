{
 "cells": [
  {
   "cell_type": "markdown",
   "id": "2351f02f",
   "metadata": {},
   "source": [
    "Este notebook describe y resuelve emplenado el método de Euler la ecuación diferencial de un circuito RC serie sencillo,\n",
    "$\\frac{dV_c}{dt} =  \\frac{1}{RC}(V_s-V_c)$\n",
    "Donde $V:c$ sería la tensión en el condensador, $V_S$ la tensión de la fuente de alimentación $R$ el valor de la resistencia en serie con el condesador y $C$ la capacidad de éste último.\n",
    "\n",
    "LO primero que hacemos es crear una función que defina la ecuación de la derivada del voltaje en eel condensador con respeto al tiempo.\n"
   ]
  },
  {
   "cell_type": "code",
   "execution_count": 43,
   "id": "6b85ef5b",
   "metadata": {},
   "outputs": [],
   "source": [
    "import numpy as np \n",
    "import matplotlib.pyplot as pl #libreria de python para dibujar gráficas\n",
    "\n",
    "\n",
    "def condensador(R, C, Vs,V):\n",
    "    ''' Esta función define la derivada del voltaje con respecto al tiempo en\n",
    "    los terminales de un condensador de capacidad C, en un circuito RC serie\n",
    "    El valor de la resistencia es R, la fuente de tensión ideal toma valor Vi\n",
    "    \n",
    "    \n",
    "    variables de entrada:\n",
    "        R resitencia en ohmios\n",
    "        C capacidad en faradios\n",
    "        V voltaje al que está el condensador\n",
    "        Vs voltaje de la fuente de alimentación\n",
    "    Variables de salida:\n",
    "        dotV derivada de la tension en el condensador con respecto al tiempo\n",
    "    ''' \n",
    "    dotV = (Vs-V)/R/C\n",
    "    return dotV"
   ]
  },
  {
   "cell_type": "markdown",
   "id": "cc4e40d4",
   "metadata": {},
   "source": [
    "Integramos empleando el método de Euler para el caso en que la fuente  suministra un voltaje constante.\n",
    "En general, integrar una funcion $\\dot{x} = f(x,t)$ por el método de Euler es iterar para sucesivos instantes de tiempo. \n",
    "$t(n+1) = t(n) + \\Delta t)$\n",
    "\n",
    "$x(n+1) = f(x(n),t(n))\\Delta t + x(n)$\n",
    "\n",
    "Definimos un tiempo final, hasta el que queremos calcular la solución\n",
    "tomamos el tiempo inicial como 0"
   ]
  },
  {
   "cell_type": "code",
   "execution_count": 44,
   "id": "45858a6c",
   "metadata": {},
   "outputs": [],
   "source": [
    "tf = 1"
   ]
  },
  {
   "cell_type": "markdown",
   "id": "86326c41",
   "metadata": {},
   "source": [
    "Vamos a usar varios pasos de integración para ver el efecto sobre la solucion"
   ]
  },
  {
   "cell_type": "code",
   "execution_count": 45,
   "id": "a6abebb1",
   "metadata": {},
   "outputs": [],
   "source": [
    "pt = [0.01, 0.05]"
   ]
  },
  {
   "cell_type": "markdown",
   "id": "6bafad45",
   "metadata": {},
   "source": [
    "definimos los valores de la resistencia, capacidad del condesador y voltaje de\n",
    "la fuente y el valor inicial de la tensión en el condesador"
   ]
  },
  {
   "cell_type": "code",
   "execution_count": 46,
   "id": "d3b377c3",
   "metadata": {},
   "outputs": [],
   "source": [
    "R = 1000\n",
    "C = 0.0001\n",
    "Vs = 10\n",
    "V0 = 0"
   ]
  },
  {
   "cell_type": "markdown",
   "id": "363aa57e",
   "metadata": {},
   "source": [
    "#empleamos un bucle para integrar la ecuación 'condesador' con los dos valores\n",
    "#elegidos de dt"
   ]
  },
  {
   "cell_type": "code",
   "execution_count": 47,
   "id": "8dcb9753",
   "metadata": {},
   "outputs": [],
   "source": [
    "pl.figure(1)\n",
    "for dt in pt:\n",
    "    #aquí va el autentico bucle de cálculo empleando Euler\n",
    "    V = [V0] #guardo el valor inicial del voltaje \n",
    "    t=0 #igualamos el tiempo a su valor inicial\n",
    "    tiempos = np.arange(t,tf,dt) #creamos un vector de tiempo\n",
    "    V = np.zeros(tiempos.shape) #y otro, para las tensiones del mismo tamaño\n",
    "    V[0] = V0 #pongo V0 en el primer valor de V\n",
    "    for i in range(tiempos.shape[0]-1):\n",
    "        V[i+1] = V[i] + condensador(R,C,Vs,V[i])*dt\n",
    "    pl.plot(tiempos,V)\n",
    "    pl.plot(tiempos,V,'.') #pinto tambien cada punto obtenido por euler"
   ]
  },
  {
   "cell_type": "markdown",
   "id": "46ce1130",
   "metadata": {},
   "source": [
    "Como en este caso la solución analítica es fácil $V = V_s(1-e^{-{frac{t}{RC}}$ la calculamos y la dibujamos con nuestros resultados anteriores\n"
   ]
  },
  {
   "cell_type": "code",
   "execution_count": 48,
   "id": "2443d730",
   "metadata": {},
   "outputs": [
    {
     "data": {
      "text/plain": [
       "<matplotlib.legend.Legend at 0x788abbfc6d50>"
      ]
     },
     "execution_count": 48,
     "metadata": {},
     "output_type": "execute_result"
    }
   ],
   "source": [
    "temp = np.arange(0,tf,0.0001) #uso un paso de tiempo mas fino\n",
    "Va = Vs*(1-np.exp(-np.array(temp)/R/C))\n",
    "pl.plot(temp,Va)\n",
    "pl.xlabel('t s.')\n",
    "pl.ylabel('V volt.')\n",
    "pl.legend(['dt = 0.01','','dt = 0.05','','sol. analítica'])\n"
   ]
  },
  {
   "cell_type": "markdown",
   "id": "a7991fa7",
   "metadata": {},
   "source": [
    "Vamos ahora a darle una tensión sinusoidal para ver que pasa...\n",
    "(Bueno lo que pasa es que el voltaje se retrasa y se atenúa respecto del de la fuente, 'lo de haber que pasa' es para darle emoción)\n",
    "\n",
    "Para empezar, definimos una función que haga el papel de una fuente sinosuoidal"
   ]
  },
  {
   "cell_type": "code",
   "execution_count": 49,
   "id": "7a1bf277",
   "metadata": {},
   "outputs": [],
   "source": [
    "def Voltios(Vm,w,t, ph=0):\n",
    "    \"\"\"\n",
    "    input\n",
    "    Voltaje sinusoidal\n",
    "    Vm amplitud\n",
    "    w frecuencia en rad/s´\n",
    "    t tiempo en s\n",
    "    output\n",
    "    V en voltios\n",
    "    ph es la fase en rad, por defecto es cero\n",
    "    \"\"\"\n",
    "    V = Vm*np.sin(w*t) \n",
    "    return V\n"
   ]
  },
  {
   "cell_type": "markdown",
   "id": "7959a206",
   "metadata": {},
   "source": [
    "Repetimos todo igual que antes. Solo que ahora creamos nuevas variables para la amplitud del voltaje y la frecuencia de la fuente. Añadimos una frecuencia baja, si no lo hacemos así nuestro dt para integrar por Euler tendrá problemas de aliasing (de hecho para el dt más grande sale un churro, pero lo dejo así, porque de los churros también se aprende ;)\n"
   ]
  },
  {
   "cell_type": "code",
   "execution_count": 50,
   "id": "676ca8d7",
   "metadata": {},
   "outputs": [
    {
     "data": {
      "text/plain": [
       "<matplotlib.legend.Legend at 0x788abb600810>"
      ]
     },
     "execution_count": 50,
     "metadata": {},
     "output_type": "execute_result"
    }
   ],
   "source": [
    "R = 1000\n",
    "C = 0.0001\n",
    "Vm = 10\n",
    "w = 10*np.pi\n",
    "pl.figure(2) #creo una nueva figura para no estropear la anterior\n",
    "for dt in pt:\n",
    "    #aquí va el autentico bucle de cálculo empleando Euler\n",
    "      \n",
    "    t=0 #igualamos el tiempo a su valor inicial\n",
    "    tiempos = np.arange(t,tf,dt) #creamos un vector de tiempo\n",
    "    V = np.zeros(tiempos.shape) #y otro, para las tensiones del mismo tamaño\n",
    "    V[0] = Voltios(Vm,w,0) #guardo el valor inicial del voltaje\n",
    "    for i in range(tiempos.shape[0]-1):\n",
    "        V[i+1] = V[i] + condensador(R,C,Voltios(Vm,w,tiempos[i]),V[i])*dt\n",
    "    pl.plot(tiempos,V)\n",
    "    pl.plot(tiempos,V,'.') #pinto tambien cada punto obtenido por euler\n",
    "\n",
    "\n",
    "Vs = Voltios(Vm,w,temp)\n",
    "pl.plot(temp,Vs)    \n",
    "pl.xlabel('t s.')\n",
    "pl.ylabel('V volt.')\n",
    "pl.legend(['dt = 0.01','','dt = 0.05','','vol. fuente'])"
   ]
  }
 ],
 "metadata": {
  "kernelspec": {
   "display_name": "Python 3 (Spyder)",
   "language": "python3",
   "name": "python3"
  },
  "language_info": {
   "codemirror_mode": {
    "name": "ipython",
    "version": 3
   },
   "file_extension": ".py",
   "mimetype": "text/x-python",
   "name": "python",
   "nbconvert_exporter": "python",
   "pygments_lexer": "ipython3",
   "version": "3.11.5"
  }
 },
 "nbformat": 4,
 "nbformat_minor": 5
}
