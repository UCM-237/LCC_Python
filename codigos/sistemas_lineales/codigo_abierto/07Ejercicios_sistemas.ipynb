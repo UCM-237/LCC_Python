{
 "cells": [
  {
   "cell_type": "markdown",
   "id": "32637964",
   "metadata": {},
   "source": [
    "\n",
    "*Ejercicios Tema 7: Sistemas de ecuaciones*\n",
    "1. Crea una función en python que calcule la solución de un sistema de ecuaciones triangular inferior empleando el método de sustituciones progresivas. La función deberá tomar como valores de entrada una matriz triangular inferior de dimensión $(n\\times n)$ arbitraria y un vector columna $(n\\times 1)$ de términos independientes. Deberá devolver como variable de salida un vector columna $(n\\times 1)$ con las soluciones del sistema.\n",
    "\n"
   ]
  },
  {
   "cell_type": "code",
   "execution_count": 65,
   "id": "f6a1edb7",
   "metadata": {},
   "outputs": [
    {
     "name": "stdout",
     "output_type": "stream",
     "text": [
      "[[ 0.5       ]\n",
      " [-0.25      ]\n",
      " [ 0.17857143]\n",
      " [-0.13392857]]\n",
      "[[1.]\n",
      " [1.]\n",
      " [1.]\n",
      " [1.]]\n"
     ]
    }
   ],
   "source": [
    "import numpy as np\n",
    "import sistemas as sis\n",
    "import scipy as sc \n",
    "\n",
    "A=np.array([[2,0,0,0],[3,2,0,0],[2,5,7,0],[1,-2,3,4]])\n",
    "b=np.ones([4,1])\n",
    "x=sis.progressive(A, b)\n",
    "print(x)\n",
    "print(np.dot(A,x))"
   ]
  },
  {
   "cell_type": "markdown",
   "id": "c91a45d7",
   "metadata": {},
   "source": [
    "\n",
    "2. Crea una función en python que calcule la solución de un sistema de ecuaciones triangular superior empleando el método de sustituciones regresivas. La función deberá tomar como valores de entrada una matriz triangular inferior de dimensión $(n\\times n)$ arbitraria y un vector columna $(n\\times 1)$ de términos independientes. Deberá devolver un vector columna $(n\\times 1)$ con las soluciones del sistema.\n",
    "`"
   ]
  },
  {
   "cell_type": "code",
   "execution_count": 66,
   "id": "4f4aea2c",
   "metadata": {},
   "outputs": [
    {
     "name": "stdout",
     "output_type": "stream",
     "text": [
      "[[ 1.46666667]\n",
      " [ 0.86666667]\n",
      " [-0.13333333]\n",
      " [ 0.33333333]]\n",
      "[[1.]\n",
      " [1.]\n",
      " [1.]\n",
      " [1.]]\n"
     ]
    }
   ],
   "source": [
    "A=np.array([[1.,-3.,-6.,4.],[0.,2.,3.,-1.],[0.,0.,-5.,1.],[0.,0.,0.,3.]])\n",
    "b=np.ones([4,1])\n",
    "x=sis.regressive(A,b)\n",
    "print(x)\n",
    "print(np.dot(A,x))"
   ]
  },
  {
   "cell_type": "markdown",
   "id": "52c93d88",
   "metadata": {},
   "source": [
    "\n",
    "3. Crea una función que dadas una matriz cuadrada  $ A,\\ (n\\times n)$ y un  vector columna $b,\\ (n\\times 1)$, construya la matriz ampliada $Ab$, Aplique el método de eliminación gausiana a la matriz ampliada y llame a la función creada en el ejercicio \\ref{eje62} Para resolver el sistema $Ax=b$. La función deberá devolver como variables de salida, La matriz resultante de la aplicar la eliminación gaussiana a la ampliada y un vector columna con las soluciones del sistema resuelto. \n",
    "\n"
   ]
  },
  {
   "cell_type": "code",
   "execution_count": 67,
   "id": "c8fc41af",
   "metadata": {},
   "outputs": [
    {
     "name": "stdout",
     "output_type": "stream",
     "text": [
      "[[ 2. -1.  1.  3.]\n",
      " [ 1.  3.  2. 13.]\n",
      " [ 1.  4.  3. 18.]]\n",
      "[[ 2.  -1.   1.   3. ]\n",
      " [ 0.   4.5  2.5 16.5]\n",
      " [ 0.   3.5  1.5 11.5]]\n",
      "[[ 2.         -1.          1.          3.        ]\n",
      " [ 0.          4.5         2.5        16.5       ]\n",
      " [ 0.          0.         -0.44444444 -1.33333333]]\n",
      "U:  [[ 2.         -1.          1.          3.        ]\n",
      " [ 0.          4.5         2.5        16.5       ]\n",
      " [ 0.          0.         -0.44444444 -1.33333333]]\n",
      "x:  [1. 2. 3.]\n"
     ]
    }
   ],
   "source": [
    "A=np.array([[1.,3.,2.],[2.,-1.,1.],[1.,4.,3.]])\n",
    "b=np.array([[13.],[3.],[18.]])\n",
    "U,x=sis.gaussSolve(A,b)\n",
    "print(\"U: \",U)\n",
    "print(\"x: \",x)"
   ]
  },
  {
   "cell_type": "raw",
   "id": "b1a56b42",
   "metadata": {},
   "source": [
    "4. Crea una función que dadas una matriz cuadrada  $ A,\\ (n\\times n)$ y un  vector columna $b,\\ (n\\times 1)$, construya la matriz ampliada $Ab$. Aplique el método de eliminación Gauss-Jordan a la matriz ampliada y devuelva como variable de salida la matriz en forma escalonada reducida por filas, de modo que la última fila sea la solución del sistema $Ax=b$  \n"
   ]
  },
  {
   "cell_type": "code",
   "execution_count": 68,
   "id": "32699273",
   "metadata": {},
   "outputs": [
    {
     "name": "stdout",
     "output_type": "stream",
     "text": [
      "[[ 1.00000000e+00  0.00000000e+00 -4.93432455e-17  1.00000000e+00]\n",
      " [ 0.00000000e+00  1.00000000e+00 -9.86864911e-17  2.00000000e+00]\n",
      " [-0.00000000e+00 -0.00000000e+00  1.00000000e+00  3.00000000e+00]]\n"
     ]
    }
   ],
   "source": [
    "U=sis.gaussJordanC(A,b)\n",
    "print(U)"
   ]
  },
  {
   "cell_type": "markdown",
   "id": "fec1b6c2",
   "metadata": {},
   "source": [
    "5. Construye un programa que resuelva un sistema de ecuaciones de dimensión arbitraria, empleando el método de Jacobi simple (no en forma matricial). El programa deberá admitir como variables de entrada, una matriz de coeficientes $ A,\\ (n\\times n)$, un vector de términos independientes $b,\\ (n\\times 1)$, una solución inicial $x_0 ,\\ (n\\times 1)$, un valor para la tolerancia máxima entre dos iteraciones sucesivas y un número máximo de iteraciones permitido. El programa deberá devolver un vector columna con las soluciones del sistema, el número de iteraciones empleado y el error relativo entre las dos últimas iteraciones realizadas.\n"
   ]
  },
  {
   "cell_type": "code",
   "execution_count": 69,
   "id": "ffc94e8d",
   "metadata": {},
   "outputs": [
    {
     "name": "stdout",
     "output_type": "stream",
     "text": [
      "x: [[0.99999796]\n",
      " [1.9999964 ]\n",
      " [3.0000017 ]] \n",
      " error:  8.847091789874065e-06 \n",
      " it=  23\n",
      "b:  [[ 5.]\n",
      " [-4.]\n",
      " [17.]]\n",
      "[[ 4.99998297]\n",
      " [-3.99998643]\n",
      " [17.00001173]]\n"
     ]
    }
   ],
   "source": [
    "A=np.array([[4., 2.,-1.],[3., -5., 1.],[1., -1., 6.]])\n",
    "b=np.array([[5.],[-4.],[17.]])\n",
    "x0=np.zeros([3,1])\n",
    "tol=0.00001\n",
    "itmax=50\n",
    "x,error,it=sis.jacobiIt(A, b, x0, tol, itmax)\n",
    "print(\"x:\",x,\"\\n error: \",error, \"\\n it= \",it)\n",
    "print(\"b: \",b)\n",
    "print(A.dot(x))"
   ]
  },
  {
   "cell_type": "markdown",
   "id": "5f635244",
   "metadata": {},
   "source": [
    "6. Repite el ejercicio anterior empleando ahora el método de Jacobi matricial. Añade el código necesario para que calcule en primer lugar el radio espectral de la matriz del método y caso de no cumplirse  la condición de convergencia, el programa interrumpa su ejecución y devuelva un mensaje de error indicando el valor del radio espectral.\n"
   ]
  },
  {
   "cell_type": "code",
   "execution_count": 70,
   "id": "9ce87875",
   "metadata": {},
   "outputs": [
    {
     "name": "stdout",
     "output_type": "stream",
     "text": [
      "x: [[0.99999796]\n",
      " [1.9999964 ]\n",
      " [3.0000017 ]] \n",
      " error:  8.84709178996776e-06 \n",
      " it=  23\n",
      "The system does not converge. Spectral radius greater than 1:  1.0597398959658624\n",
      "x: [[0.]\n",
      " [0.]\n",
      " [0.]] \n",
      " error:  18.16590212458495 \n",
      " it=  0\n"
     ]
    }
   ],
   "source": [
    "A=np.array([[4., 2.,-1.],[3., -5., 1.],[1., -1., 6.]])\n",
    "b=np.array([[5.],[-4.],[17.]])\n",
    "x0=np.zeros([3,1])\n",
    "tol=0.00001\n",
    "itmax=50\n",
    "x,error,it=sis.jacobi(A, b, x0, tol, itmax)\n",
    "print(\"x:\",x,\"\\n error: \",error, \"\\n it= \",it)\n",
    "A=np.array([[1,2,-1],[2,-5,1],[1,-1,3]])\n",
    "x,error,it=sis.jacobi(A, b, x0, tol, itmax)\n",
    "print(\"x:\",x,\"\\n error: \",error, \"\\n it= \",it)\n"
   ]
  },
  {
   "cell_type": "markdown",
   "id": "12975024",
   "metadata": {},
   "source": [
    "7. Construye un programa que resuelva un sistema de ecuaciones de dimensión arbitraria, empleando el método de Gauss-Seidel simple (no en forma matricial). El programa deberá admitir como variables de entrada, una matriz de coeficientes $ A,\\ (n\\times n)$, un vector de términos independientes $b,\\ (n\\times 1)$, una solución inicial $x_0 ,\\ (n\\times 1)$, un valor para la tolerancia máxima entre dos iteraciones sucesivas y un número máximo de iteraciones permitido. El programa deberá devolver un vector columna con las soluciones del sistema, el número de iteraciones empleado y el error relativo entre las dos últimas iteraciones realizadas.\n"
   ]
  },
  {
   "cell_type": "code",
   "execution_count": 71,
   "id": "35e33485",
   "metadata": {},
   "outputs": [
    {
     "name": "stdout",
     "output_type": "stream",
     "text": [
      "x: [[0.9999991 ]\n",
      " [1.99999943]\n",
      " [3.00000005]] \n",
      " error:  4.2723667257972726e-06 \n",
      " it=  13\n",
      "[[ 4.9999952 ]\n",
      " [-3.99999978]\n",
      " [17.        ]]\n"
     ]
    }
   ],
   "source": [
    "A=np.array([[4., 2.,-1.],[3., -5., 1.],[1., -1., 6.]])\n",
    "b=np.array([[5.],[-4.],[17.]])\n",
    "x0=np.zeros([3,1])\n",
    "tol=0.00001\n",
    "itmax=50\n",
    "x,error,it=sis.gaussSeidelIt(A, b, x0, tol, itmax)\n",
    "print(\"x:\",x,\"\\n error: \",error, \"\\n it= \",it)\n",
    "print(A.dot(x))"
   ]
  },
  {
   "cell_type": "markdown",
   "id": "112d48fc",
   "metadata": {},
   "source": [
    "\n",
    "8. Repite el ejercicio anterior empleando ahora el método de Gauss-Seidel matricial. Añade el código necesario para que calcule en primer lugar el radio espectral de la matriz del método y caso de no cumplirse  la condición de convergencia, el programa interrumpa su ejecución y devuelva un mensaje de error indicando el valor del radio espectral.\n"
   ]
  },
  {
   "cell_type": "code",
   "execution_count": 72,
   "id": "6598e6cb",
   "metadata": {},
   "outputs": [
    {
     "name": "stdout",
     "output_type": "stream",
     "text": [
      "Gauss Seidel\n",
      "x: [[0.9999991 ]\n",
      " [1.99999943]\n",
      " [3.00000005]] \n",
      " error:  4.27236672600987e-06 \n",
      " it=  13\n"
     ]
    }
   ],
   "source": [
    "x,error,it=sis.gaussSeidel(A, b, x0, tol, itmax)\n",
    "print(\"Gauss Seidel\")\n",
    "print(\"x:\",x,\"\\n error: \",error, \"\\n it= \",it)"
   ]
  },
  {
   "cell_type": "markdown",
   "id": "0dc5b73a",
   "metadata": {},
   "source": [
    "9. Construye un programa que resuelva un sistema de ecuaciones de dimensión arbitraria, empleando el método de Jacobi amortiguado simple (no en forma matricial). El programa deberá admitir como variables de entrada, una matriz de coeficientes $ A,\\ (n\\times n)$, un vector de términos independientes $b,\\ (n\\times 1)$, una solución inicial $x_0 ,\\ (n\\times 1)$, un valor para el parámetro de amortiguamiento $\\omega$, un valor para la tolerancia máxima entre dos iteraciones sucesivas y un número máximo de iteraciones permitido. El programa deberá devolver un vector columna con las soluciones del sistema, el número de iteraciones empleado y el error relativo entre las dos últimas iteraciones realizadas.\n"
   ]
  },
  {
   "cell_type": "code",
   "execution_count": 73,
   "id": "694e91cb",
   "metadata": {},
   "outputs": [
    {
     "name": "stdout",
     "output_type": "stream",
     "text": [
      "Jacobi amortiguado\n",
      "x: [[1.00000231]\n",
      " [2.0000016 ]\n",
      " [2.9999989 ]] \n",
      " error:  5.681694716002063e-06 \n",
      " it=  18\n"
     ]
    }
   ],
   "source": [
    "print(\"Jacobi amortiguado\")\n",
    "x,error,it=sis.jacobiItW(A, b, x0, tol, itmax, 0.8)\n",
    "print(\"x:\",x,\"\\n error: \",error, \"\\n it= \",it)"
   ]
  },
  {
   "cell_type": "markdown",
   "id": "bc6083c2",
   "metadata": {},
   "source": [
    "10. Repite el ejercicio anterior empleando ahora el método de Jacobi amortiguado matricial. Añade el código necesario para que calcule en primer lugar el radio espectral de la matriz del método y caso de no cumplirse  la condición de convergencia, el programa interrumpa su ejecución y devuelva un mensaje de error indicando el valor del radio espectral.\n"
   ]
  },
  {
   "cell_type": "code",
   "execution_count": 74,
   "id": "bd811cfe",
   "metadata": {},
   "outputs": [
    {
     "name": "stdout",
     "output_type": "stream",
     "text": [
      "Jacobi amortiguado matricial\n",
      "x: [[1.00000231]\n",
      " [2.0000016 ]\n",
      " [2.9999989 ]] \n",
      " error:  5.681694716391025e-06 \n",
      " it=  18\n",
      "The system does not converge. Spectral radius greater than 1:  1.0597398959658624\n",
      "x: [[0.]\n",
      " [0.]\n",
      " [0.]] \n",
      " error:  18.16590212458495 \n",
      " it=  0\n"
     ]
    }
   ],
   "source": [
    "print(\"Jacobi amortiguado matricial\")\n",
    "x,error,it=sis.jacobiW(A, b, x0, tol, itmax, 0.8)\n",
    "print(\"x:\",x,\"\\n error: \",error, \"\\n it= \",it) \n",
    "A=np.array([[1,2,-1],[2,-5,1],[1,-1,3]])\n",
    "x,error,it=sis.jacobiW(A, b, x0, tol, itmax, 1)\n",
    "print(\"x:\",x,\"\\n error: \",error, \"\\n it= \",it) \n"
   ]
  },
  {
   "cell_type": "markdown",
   "id": "88664f03",
   "metadata": {},
   "source": [
    "11. Construye un programa que resuelva un sistema de ecuaciones de dimensión arbitraria, empleando el método SOR  simple (no en forma matricial). El programa deberá admitir como variables de entrada, una matriz de coeficientes $ A,\\ (n\\times n)$, un vector de términos independientes $b,\\ (n\\times 1)$, una solución inicial $x_0 ,\\ (n\\times 1)$, un valor para el parámetro de amortiguamiento $\\omega$, un valor para la tolerancia máxima entre dos iteraciones sucesivas y un número máximo de iteraciones permitido. El programa deberá devolver un vector columna con las soluciones del sistema, el número de iteraciones empleado y el error relativo entre las dos últimas iteraciones realizadas.\n"
   ]
  },
  {
   "cell_type": "code",
   "execution_count": 75,
   "id": "c53077b1",
   "metadata": {},
   "outputs": [
    {
     "name": "stdout",
     "output_type": "stream",
     "text": [
      "x: [[1.00000187]\n",
      " [1.99999956]\n",
      " [2.99999956]] \n",
      " error:  5.96580329442439e-06 \n",
      " it=  11\n"
     ]
    }
   ],
   "source": [
    "A=np.array([[4., 2.,-1.],[3., -5., 1.],[1., -1., 6.]])\n",
    "b=np.array([[5.],[-4.],[17.]])\n",
    "x0=np.zeros([3,1])\n",
    "tol=0.00001\n",
    "itmax=50\n",
    "w=0.8\n",
    "x,error,it=sis.gaussSeideSORlIt(A, b, x0, tol, itmax, w)\n",
    "print(\"x:\",x,\"\\n error: \",error, \"\\n it= \",it)"
   ]
  },
  {
   "cell_type": "markdown",
   "id": "e9d838eb",
   "metadata": {},
   "source": [
    "12. Repite el ejercicio anterior empleando ahora el método SOR matricial. Añade el código necesario para que calcule en primer lugar el radio espectral de la matriz del método y caso de no cumplirse  la condición de convergencia, el programa interrumpa su ejecución y devuelva un mensaje de error indicando el valor del radio espectral.\n"
   ]
  },
  {
   "cell_type": "code",
   "execution_count": 76,
   "id": "e64da0dd",
   "metadata": {},
   "outputs": [
    {
     "name": "stdout",
     "output_type": "stream",
     "text": [
      "SOR matricial\n",
      "x: [[1.00000187]\n",
      " [1.99999956]\n",
      " [2.99999956]] \n",
      " error:  5.965803294477046e-06 \n",
      " it=  11\n",
      "The system does not converge. Spectral radius greater than 1:  1.0592129611543726\n",
      "x: [[0.]\n",
      " [0.]\n",
      " [0.]] \n",
      " error:  18.16590212458495 \n",
      " it=  0\n"
     ]
    }
   ],
   "source": [
    "print(\"SOR matricial\")\n",
    "A=np.array([[4., 2.,-1.],[3., -5., 1.],[1., -1., 6.]])\n",
    "b=np.array([[5.],[-4.],[17.]])\n",
    "x0=np.zeros([3,1])\n",
    "tol=0.00001\n",
    "itmax=50\n",
    "w=0.8\n",
    "x,error,it=sis.SOR(A, b, x0, tol, itmax, w)\n",
    "print(\"x:\",x,\"\\n error: \",error, \"\\n it= \",it)\n",
    "A=np.array([[1,2,-1],[2,-5,1],[1,-1,3]])\n",
    "w=1\n",
    "x,error,it=sis.SOR(A, b, x0, tol, itmax, w)\n",
    "print(\"x:\",x,\"\\n error: \",error, \"\\n it= \",it)"
   ]
  },
  {
   "cell_type": "markdown",
   "id": "c002c614",
   "metadata": {},
   "source": [
    "\n",
    "12. Resuelve el siguiente sistema de ecuaciones, empleando la factorización LU. Indica todos los pasos empleados hasta obtener las solución del sistema.\n",
    "\n",
    "$$ 3x_1+3x_2-2x_3 +x_4= 13 $$\n",
    "\n",
    "$$2 x_2-x_3  \\hspace{30pt} =3$$\n",
    "\n",
    "$$ -2x_1+x_2 + 5x_3 -4x_4= 1$$\n",
    "\n",
    "$$ 2x_1 \\hspace{30pt} - x_3 +2x_4 = 5 $$\n",
    "\n",
    "Repite el ejercicio empleando las factorizaciones QR y SVD.\n"
   ]
  },
  {
   "cell_type": "code",
   "execution_count": 77,
   "id": "72282288",
   "metadata": {},
   "outputs": [
    {
     "name": "stdout",
     "output_type": "stream",
     "text": [
      "L: [[ 1.          0.          0.          0.        ]\n",
      " [-0.66666667  1.          0.          0.        ]\n",
      " [ 0.          0.66666667  1.          0.        ]\n",
      " [ 0.66666667 -0.66666667 -0.80645161  1.        ]]\n",
      "U: [[ 3.          3.         -2.          1.        ]\n",
      " [ 0.          3.          3.66666667 -3.33333333]\n",
      " [ 0.          0.         -3.44444444  2.22222222]\n",
      " [ 0.          0.          0.          0.90322581]]\n",
      "P:  [[1. 0. 0. 0.]\n",
      " [0. 0. 1. 0.]\n",
      " [0. 1. 0. 0.]\n",
      " [0. 0. 0. 1.]]\n",
      "Pb:  [[13.]\n",
      " [ 1.]\n",
      " [ 3.]\n",
      " [ 5.]]\n",
      "z: [[ 1.30000000e+01]\n",
      " [ 9.66666667e+00]\n",
      " [-3.44444444e+00]\n",
      " [ 4.44089210e-16]]\n",
      "Lz:  [[13.]\n",
      " [ 1.]\n",
      " [ 3.]\n",
      " [ 5.]]\n",
      "x: [[3.00000000e+00]\n",
      " [2.00000000e+00]\n",
      " [1.00000000e+00]\n",
      " [4.91670197e-16]]\n",
      "[[13.]\n",
      " [ 3.]\n",
      " [ 1.]\n",
      " [ 5.]]\n"
     ]
    },
    {
     "ename": "NameError",
     "evalue": "name 'c' is not defined",
     "output_type": "error",
     "traceback": [
      "Traceback \u001b[0;36m(most recent call last)\u001b[0m:\n",
      "\u001b[0;36m  Cell \u001b[0;32mIn[77], line 16\u001b[0;36m\n\u001b[0;31m    c\u001b[0;36m\n",
      "\u001b[0;31mNameError\u001b[0m\u001b[0;31m:\u001b[0m name 'c' is not defined\n"
     ]
    }
   ],
   "source": [
    "A=np.array([[3.,3.,-2.,1],[0.,2.,-1.,0.],[-2.,1.,5.,-4.],[2.,0.,-1.,2.]])\n",
    "b=np.array([[13.],[3.],[1.],[5.]])\n",
    "P,L,U=sc.linalg.lu(A)\n",
    "print(\"L:\",L)\n",
    "print(\"U:\",U)\n",
    "print(\"P: \",P)\n",
    "Pb=np.transpose(P).dot(b)\n",
    "print(\"Pb: \",Pb)\n",
    "z=sis.progressive(L, Pb)\n",
    "print(\"z:\",z)\n",
    "print(\"Lz: \",L.dot(z))\n",
    "x=sis.regressive(U, z)\n",
    "print(\"x:\",x)\n",
    "print(A.dot(x))\n",
    "#QR factorising\n",
    "c\n",
    "#SVD decomposition\n",
    "U,s,V=sc.linalg.svd(A)\n",
    "print(\"U: \",U)\n",
    "print(\"V: \",V)\n",
    "print(\"s: \",s)\n",
    "S=np.diag(s)\n",
    "print(\"S: \",S)\n",
    "Utb=np.transpose(U).dot(b)\n",
    "z=sis.diag_sys(S, Utb)\n",
    "print(\"z: \",z)\n",
    "x=np.transpose(V).dot(z)\n",
    "print(\"x:\",x)\n"
   ]
  },
  {
   "cell_type": "markdown",
   "id": "cbdd2b60",
   "metadata": {},
   "source": [
    "\n",
    "13. Para calcular las intensidades de un circuito de corriente continua como el de la figura, es suficiente emplear las leyes de Kirchoff. La primera ley **ley de nodos** establece que la suma de corrientes que llegan a un nodo del circuito debe ser igual a cero.\n",
    "\n",
    "La segunda **ley de mallas** establece que la suma de las caídas de tensión en un malla cerrada tiene que ser cero. La caída de voltaje en una resistencia se calcula empleando la ley de Ohm: $V = i\\cdot R$\n",
    "Si aplicamos las leyes de Kirchoff al circuito de la figura, obtenemos  el siguiente sistema de ecuaciones,\n",
    "\n",
    "\\begin{align*}\n",
    "i_1 - i_2 - i_3 &= 0\\\\\n",
    "i_3 - i_4 - i_5 &= 0\\\\\n",
    "i_5  + i_2 -i_6&= 0\\\\\n",
    "5i_3 + 70 i_4 &= 180\\\\\n",
    "25i_2 -5i_3-10i_5 &= 0\\\\\n",
    "10i_5+8i_6 -70i_4 &= 0  \n",
    "\\end{align*}\n",
    "\n",
    "<image src=\"/images/circuito.eps\">\n",
    "\n",
    "Las tres primeras ecuaciones corresponden a aplicar la **ley de nodos** a los nodos marcados con un punto negro en la figura. \n",
    "\n",
    "Las tres últimas, a aplicar la **ley de mallas** a las tres mallas considerando positivo recorrerlas en el sentido de las agujas del reloj.\n",
    "\n",
    "El sistema de ecuaciones obtenido puede expresarse en forma matricial como,\n",
    "\\begin{equation}\n",
    "\\begin{pmatrix}\n",
    "1& -1& -1& 0 & 0 &0\\\\\n",
    "0& 0& 1& -1& -1& 0\\\\\n",
    "0& 1& 0&  0&  1& -1\\\\ \n",
    "0& 0& 5& 70& 0& 0\\\\\n",
    "0& 25& -5& 0& -10& 0\\\\\n",
    "0& 0& 0& -70& 10& 8\n",
    "\\end{pmatrix}\\begin{pmatrix}\n",
    "i_1\\\\ i_2\\\\ i_3\\\\ i_4\\\\ i_5\\\\ i_6\n",
    "\\end{pmatrix}= \\begin{pmatrix}\n",
    "0\\\\ 0\\\\ 0\\\\ 180\\\\ 0\\\\ 0\n",
    "\\end{pmatrix} \n",
    "\\end{equation}\n",
    "    \n",
    "1. Define en python el sistema de ecuaciones anterior. Obtén los valores de las intensidades en todas las ramas del circuito empleando directamente un solo comando o función de python. Calcula el condicionamiento del sustema y dí si en tu opinión el sistema está bien o mal condicionado.\n"
   ]
  },
  {
   "cell_type": "code",
   "execution_count": 81,
   "id": "09a99f9f",
   "metadata": {},
   "outputs": [
    {
     "name": "stdout",
     "output_type": "stream",
     "text": [
      "Condicionamiento:  148.87162008127189\n",
      "x:  [[12.]\n",
      " [ 4.]\n",
      " [ 8.]\n",
      " [ 2.]\n",
      " [ 6.]\n",
      " [10.]]\n"
     ]
    }
   ],
   "source": [
    "A=np.array([[1.,-1.,-1.,0.,0.,0.],[0.,0.,1.,-1,-1.,0.],[0.,1.,0.,0.,1.,-1.],[0.,0.,5.,70.,0.,0.],[0.,25.,-5.,0.,-10.,0.],[0.,0.,0.,-70.,10.,8.]])\n",
    "b=np.array([[0.],[0.],[0.],[180.],[0.],[0.]])\n",
    "condicionamiento=np.linalg.cond(A)\n",
    "print(\"Condicionamiento: \",condicionamiento)\n",
    "x=(np.linalg.inv(A)).dot(b)\n",
    "print(\"x: \", x)"
   ]
  },
  {
   "cell_type": "markdown",
   "id": "bbcc1217",
   "metadata": {},
   "source": [
    "\n",
    "2. Emplea la factorización QR para obtener de nuevo la solución del sistema. \n"
   ]
  },
  {
   "cell_type": "code",
   "execution_count": 82,
   "id": "bdeab83a",
   "metadata": {},
   "outputs": [
    {
     "name": "stdout",
     "output_type": "stream",
     "text": [
      "Q:  [[ 1.          0.          0.          0.          0.          0.        ]\n",
      " [-0.          0.         -0.19596569  0.20121156  0.91167056 -0.29994691]\n",
      " [-0.         -0.03996804 -0.03913053  0.03738837 -0.3268157  -0.94269028]\n",
      " [-0.         -0.         -0.97982845 -0.04173785 -0.16926148  0.09769699]\n",
      " [-0.         -0.99920096  0.00156522 -0.00149553  0.01307263  0.03770761]\n",
      " [-0.         -0.         -0.          0.9779426  -0.18228535  0.10198195]]\n",
      "R:  [[ 1.00000000e+00 -1.00000000e+00 -1.00000000e+00  0.00000000e+00\n",
      "   0.00000000e+00  0.00000000e+00]\n",
      " [ 0.00000000e+00 -2.50199920e+01  4.99600479e+00  0.00000000e+00\n",
      "   9.95204155e+00  3.99680383e-02]\n",
      " [ 0.00000000e+00  0.00000000e+00 -5.10293407e+00 -6.83920261e+01\n",
      "   1.41182950e-01  3.91305293e-02]\n",
      " [ 0.00000000e+00  0.00000000e+00  0.00000000e+00 -7.15788430e+01\n",
      "   9.63055818e+00  7.78615245e+00]\n",
      " [ 0.00000000e+00  0.00000000e+00  0.00000000e+00  0.00000000e+00\n",
      "  -3.19206603e+00 -1.13146710e+00]\n",
      " [ 0.00000000e+00  0.00000000e+00  0.00000000e+00  0.00000000e+00\n",
      "   0.00000000e+00  1.75854587e+00]]\n",
      "x:  [[12.]\n",
      " [ 4.]\n",
      " [ 8.]\n",
      " [ 2.]\n",
      " [ 6.]\n",
      " [10.]]\n"
     ]
    }
   ],
   "source": [
    "Q,R=sc.linalg.qr(A)\n",
    "print(\"Q: \",Q)\n",
    "print(\"R: \", R)\n",
    "Qb=np.transpose(Q).dot(b)\n",
    "x=sis.regressive(R, Qb)\n",
    "print(\"x: \",x)"
   ]
  },
  {
   "cell_type": "markdown",
   "id": "eb60e819",
   "metadata": {},
   "source": [
    "3. Utilizando la versión permutada del sistema, obtenida mediante la factorización LU, es decir, usando $P\\cdot A$ como matriz del sistema y $P\\cdot b$, como término independiente, calcula el radio espectral correspondiente al método de Jacobi e indica si tiene sentido o no emplear este método para obtener las intensidades del circuito de la figura.\n"
   ]
  },
  {
   "cell_type": "code",
   "execution_count": 84,
   "id": "44bd4ef9",
   "metadata": {},
   "outputs": [
    {
     "name": "stdout",
     "output_type": "stream",
     "text": [
      "pA:  [[  1.  -1.  -1.   0.   0.   0.]\n",
      " [  0.  25.  -5.   0. -10.   0.]\n",
      " [  0.   0.   5.  70.   0.   0.]\n",
      " [  0.   0.   0. -70.  10.   8.]\n",
      " [  0.   0.   1.  -1.  -1.   0.]\n",
      " [  0.   1.   0.   0.   1.  -1.]]\n",
      "The system does not converge. Spectral radius greater than 1:  1.4728937596850245\n"
     ]
    }
   ],
   "source": [
    "P,L,U=sc.linalg.lu(A)\n",
    "pA=np.transpose(P).dot(A)\n",
    "pb=np.transpose(P).dot(b)\n",
    "print(\"pA: \",pA)\n",
    "x0=np.zeros([6,1])\n",
    "tol=0.00001\n",
    "itmax=50\n",
    "x=sis.jacobi(pA,pb,x0,tol,itmax)"
   ]
  },
  {
   "cell_type": "markdown",
   "id": "0657ebc5",
   "metadata": {},
   "source": [
    "4. Emplea el método de Jacobi amortiguado, con un amortiguamiento de $w =0.1$ para calcular las intensidades del circuito de la figura, con una tolerancia de $10^{-5}$. Indica el número de iteraciones empleado hasta alcanzar la solución.  (**Nota importante**} Usa la versión permutada del sistema y ten en cuenta que va a necesitar bastantes iteraciones --más de $3000$-- para converger).\n"
   ]
  },
  {
   "cell_type": "code",
   "execution_count": 85,
   "id": "e44a230a",
   "metadata": {},
   "outputs": [
    {
     "name": "stdout",
     "output_type": "stream",
     "text": [
      "x: [[11.99995837]\n",
      " [ 3.99998705]\n",
      " [ 7.99992688]\n",
      " [ 2.00000195]\n",
      " [ 5.99994733]\n",
      " [ 9.99999716]] \n",
      " error:  9.750404786690157e-06 \n",
      " it=  3078\n"
     ]
    }
   ],
   "source": [
    "w=0.1\n",
    "tol=0.00001\n",
    "itmax=4000\n",
    "x, error, it = sis.jacobiW(pA,pb,x0,tol,itmax,w)\n",
    "print(\"x:\",x,\"\\n error: \",error, \"\\n it= \",it)"
   ]
  },
  {
   "cell_type": "markdown",
   "id": "0f4a3af4",
   "metadata": {},
   "source": [
    "5. Emplea el método SOR, con un amortiguamiento de $w =0.2$ para calcular las intensidades del circuito de la figura, con una tolerancia de $10^{-5}$. Indica el número de iteraciones empleado hasta alcanzar la solución (**Nota importante:** Usa la versión permutada del sistema).\n",
    "\n",
    "Discute, a la vista de los resultados, cúal método funciona mejor.\n"
   ]
  },
  {
   "cell_type": "code",
   "execution_count": 86,
   "id": "afd2c609",
   "metadata": {},
   "outputs": [
    {
     "name": "stdout",
     "output_type": "stream",
     "text": [
      "x: [[11.99999295]\n",
      " [ 3.99999735]\n",
      " [ 8.00001175]\n",
      " [ 1.9999987 ]\n",
      " [ 6.00001305]\n",
      " [10.00001041]] \n",
      " error:  8.613785306012668e-06 \n",
      " it=  116\n"
     ]
    }
   ],
   "source": [
    "w=0.2\n",
    "tol=0.00001\n",
    "itmax=4000\n",
    "x, error, it = sis.SOR(pA,pb,x0,tol,itmax,w)\n",
    "print(\"x:\",x,\"\\n error: \",error, \"\\n it= \",it)"
   ]
  },
  {
   "cell_type": "markdown",
   "id": "ea7fa5a3",
   "metadata": {},
   "source": [
    "6. Escribe un código que permita dibujar el radio espectral de un método amortiguado en función de la matriz del método, para distintos valores del amortiguamiento. Emplea el programa para los casos de las dos preguntas anteriores. ¿Ha sido razonable la elección de los valores de $w$ realizada en dichas preguntas?"
   ]
  },
  {
   "cell_type": "code",
   "execution_count": 92,
   "id": "9c39def1",
   "metadata": {},
   "outputs": [],
   "source": [
    "sis.spectralRadPlot(pA,0)\n",
    "sis.spectralRadPlot(pA,1)\n"
   ]
  },
  {
   "cell_type": "code",
   "execution_count": null,
   "id": "f35b9ac2",
   "metadata": {},
   "outputs": [],
   "source": []
  }
 ],
 "metadata": {
  "kernelspec": {
   "display_name": "Python 3 (Spyder)",
   "language": "python3",
   "name": "python3"
  },
  "language_info": {
   "codemirror_mode": {
    "name": "ipython",
    "version": 3
   },
   "file_extension": ".py",
   "mimetype": "text/x-python",
   "name": "python",
   "nbconvert_exporter": "python",
   "pygments_lexer": "ipython3",
   "version": "3.9.18"
  }
 },
 "nbformat": 4,
 "nbformat_minor": 5
}
