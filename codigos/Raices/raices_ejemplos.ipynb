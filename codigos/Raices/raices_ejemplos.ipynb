{
 "cells": [
  {
   "cell_type": "code",
   "execution_count": 11,
   "id": "230b0376",
   "metadata": {},
   "outputs": [
    {
     "name": "stdout",
     "output_type": "stream",
     "text": [
      "Biseccion\n",
      "Raiz \t Error \t Iteraciones\n",
      "-0.70361328125 0.00027741036846523626 10\n",
      "Interpolacion\n",
      "Raiz \t Error \t Iteraciones\n",
      "-0.7030109694548908 0.0008679261840578434 8\n",
      "Newton\n",
      "Raiz \t Error \t Iteraciones\n",
      "2.5 5.932493960703473 0\n",
      "Secante\n",
      "Raiz \t Error \t Iteraciones\n",
      "-0.12624404946846424 5.932493960703473 0\n"
     ]
    }
   ],
   "source": [
    "import numpy as np\n",
    "import matplotlib.pyplot as plt\n",
    "import raices as rc\n",
    "\n",
    "x=np.linspace(-2.5,2.5,100)\n",
    "y=rc.f_prueba(x)\n",
    "x_int=np.array([-2,2])\n",
    "y_int=rc.f_prueba(x_int)\n",
    "x1=np.array([-2,-2,2,2])\n",
    "y1=np.array([0,y_int[0],0,y_int[1]])\n",
    "plt.plot(x,y)\n",
    "plt.plot(x1[0:2],y1[0:2],'r-')\n",
    "plt.plot(x_int[0],y_int[0],'ro')\n",
    "plt.plot(x1[2:4],y1[2:4],'b-')\n",
    "plt.plot(x_int[1],y_int[1],'bo')\n",
    "raiz,error,nit=rc.biseccion(rc.f_prueba,-2,2.5,0.001,50)\n",
    "print(\"Biseccion\")\n",
    "print(\"Raiz \\t Error \\t Iteraciones\")\n",
    "print(raiz,error,nit)\n",
    "plt.plot(raiz,rc.f_prueba(raiz),'go')\n",
    "plt.xlabel('x')\n",
    "plt.ylabel('y')\n",
    "plt.grid()\n",
    "raiz,error,nit=rc.regula_falsi(rc.f_prueba,-2,2.5,0.001,50)\n",
    "print(\"Interpolacion\")\n",
    "print(\"Raiz \\t Error \\t Iteraciones\")\n",
    "print(raiz,error,nit)\n",
    "raiz,error,nit=rc.newton_raphson(rc.f_prueba,rc.df_prueba,2.5,0.001,50)\n",
    "print(\"Newton\")\n",
    "print(\"Raiz \\t Error \\t Iteraciones\")\n",
    "print(raiz,error,nit)\n",
    "raiz,error,nit=rc.secant(rc.f_prueba,2.5,5,0.001,50)\n",
    "print(\"Secante\")\n",
    "print(\"Raiz \\t Error \\t Iteraciones\")\n",
    "print(raiz,error,nit)\n"
   ]
  },
  {
   "cell_type": "code",
   "execution_count": 5,
   "id": "1bad58a1",
   "metadata": {},
   "outputs": [
    {
     "name": "stdout",
     "output_type": "stream",
     "text": [
      "(-0.703465336258352, 3.967610659683096e-06, 13)\n"
     ]
    }
   ],
   "source": [
    "import numpy as np\n",
    "def pfijo(x0,g,f,tol):\n",
    "    x=g(x0)\n",
    "    nit=0\n",
    "    while abs(f(x))>tol:\n",
    "        x=g(x)\n",
    "        nit=nit+1\n",
    "    return x,abs(f(x)),nit\n",
    "\n",
    "def g(x):\n",
    "    y=-np.sqrt(np.exp(x))\n",
    "    return y\n",
    "\n",
    "def f(x):\n",
    "    y=np.exp(x)-x**2\n",
    "    return y\n",
    "\n",
    "print(pfijo(2.5,g,f,0.00001))"
   ]
  },
  {
   "cell_type": "code",
   "execution_count": null,
   "id": "fc826662",
   "metadata": {},
   "outputs": [],
   "source": []
  },
  {
   "cell_type": "code",
   "execution_count": null,
   "id": "356e40df",
   "metadata": {},
   "outputs": [],
   "source": []
  },
  {
   "cell_type": "code",
   "execution_count": null,
   "id": "d5287cba",
   "metadata": {},
   "outputs": [],
   "source": []
  }
 ],
 "metadata": {
  "kernelspec": {
   "display_name": "Python 3 (Spyder)",
   "language": "python3",
   "name": "python3"
  },
  "language_info": {
   "codemirror_mode": {
    "name": "ipython",
    "version": 3
   },
   "file_extension": ".py",
   "mimetype": "text/x-python",
   "name": "python",
   "nbconvert_exporter": "python",
   "pygments_lexer": "ipython3",
   "version": "3.9.18"
  }
 },
 "nbformat": 4,
 "nbformat_minor": 5
}
