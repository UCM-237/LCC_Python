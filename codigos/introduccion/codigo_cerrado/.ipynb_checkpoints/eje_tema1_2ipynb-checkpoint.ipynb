{
 "cells": [
  {
   "cell_type": "markdown",
   "id": "637f45ab",
   "metadata": {},
   "source": [
    "Obtain using Ipython console the result of the following expresions:\n",
    "\n",
    "$\\frac{5+3x^2}{6y}$\n",
    "\n",
    "$\\frac{1+4\\sqrt{2x}}{6}y$\n",
    "\n",
    "$\\frac{-x+\\sqrt{x^2-4xy}}{2x}$"
   ]
  },
  {
   "cell_type": "code",
   "execution_count": 21,
   "id": "fbf589fa",
   "metadata": {},
   "outputs": [],
   "source": [
    "x = 2.1\n",
    "y = 2.5"
   ]
  },
  {
   "cell_type": "code",
   "execution_count": 22,
   "id": "6394800f",
   "metadata": {},
   "outputs": [
    {
     "data": {
      "text/plain": [
       "7.595833333333334"
      ]
     },
     "execution_count": 22,
     "metadata": {},
     "output_type": "execute_result"
    }
   ],
   "source": [
    "(5+3*x**2)/6*y"
   ]
  },
  {
   "cell_type": "code",
   "execution_count": 23,
   "id": "2ce5bfe4",
   "metadata": {},
   "outputs": [
    {
     "data": {
      "text/plain": [
       "3.8323169219865334"
      ]
     },
     "execution_count": 23,
     "metadata": {},
     "output_type": "execute_result"
    }
   ],
   "source": [
    "(1+4*(2*x)**(1/2))/6*y"
   ]
  },
  {
   "cell_type": "code",
   "execution_count": 24,
   "id": "24dc1f3d",
   "metadata": {},
   "outputs": [
    {
     "data": {
      "text/plain": [
       "(-2.1+0.9697815168769667j)"
      ]
     },
     "execution_count": 24,
     "metadata": {},
     "output_type": "execute_result"
    }
   ],
   "source": [
    "-x + (x**2-4*x*y)**(1/2)/(2*x)"
   ]
  },
  {
   "cell_type": "code",
   "execution_count": 25,
   "id": "5cef29a3",
   "metadata": {},
   "outputs": [],
   "source": [
    "def mifun(A):\n",
    "    E = A[0] + A[1]**2\n",
    "    D = A[0] - A[1]**-1\n",
    "    return(E,D)"
   ]
  },
  {
   "cell_type": "code",
   "execution_count": 26,
   "id": "3622a8f0",
   "metadata": {},
   "outputs": [
    {
     "name": "stdout",
     "output_type": "stream",
     "text": [
      "(18, 1.75)\n"
     ]
    }
   ],
   "source": [
    "uno = 2\n",
    "dos = 4\n",
    "resultado = mifun([uno,dos])\n",
    "print(resultado)"
   ]
  },
  {
   "cell_type": "code",
   "execution_count": 27,
   "id": "b98af5fb",
   "metadata": {},
   "outputs": [
    {
     "name": "stdout",
     "output_type": "stream",
     "text": [
      "21.0625 17.428571428571427 21.0625 17.428571428571427\n"
     ]
    }
   ],
   "source": [
    "me, da = mifun(resultado)\n",
    "la,risa = mifun(mifun([uno,dos]))\n",
    "print(me,da,la,risa)"
   ]
  },
  {
   "cell_type": "code",
   "execution_count": null,
   "id": "3a341856",
   "metadata": {},
   "outputs": [],
   "source": []
  }
 ],
 "metadata": {
  "kernelspec": {
   "display_name": "Python 3 (Spyder)",
   "language": "python3",
   "name": "python3"
  },
  "language_info": {
   "codemirror_mode": {
    "name": "ipython",
    "version": 3
   },
   "file_extension": ".py",
   "mimetype": "text/x-python",
   "name": "python",
   "nbconvert_exporter": "python",
   "pygments_lexer": "ipython3",
   "version": "3.11.7"
  }
 },
 "nbformat": 4,
 "nbformat_minor": 5
}
